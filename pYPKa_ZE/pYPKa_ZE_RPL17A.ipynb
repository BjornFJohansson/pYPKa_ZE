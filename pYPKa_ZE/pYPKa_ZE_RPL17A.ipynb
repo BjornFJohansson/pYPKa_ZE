{
 "cells": [
  {
   "cell_type": "markdown",
   "metadata": {},
   "source": [
    "# pYPKa_Z_RPL17A and pYPKa_E_RPL17A\n",
    "\n",
    "This notebook describe the construction of E. coli vectors [pYPKa_Z_RPL17A](pYPKa_Z_RPL17A.gb) and [pYPKa_E_RPL17A](pYPKa_E_RPL17A.gb)\n",
    "\n",
    "The insert defined below is cloned in pYPKa using the blunt restriction\n",
    "enzymes [ZraI](http://rebase.neb.com/rebase/enz/ZraI.html) and [EcoRV](http://rebase.neb.com/rebase/enz/EcoRV.html) in\n",
    "two different plasmids. The insert cloned in ZraI will be used as a promoter, while in the EcoRV site it will be used as a\n",
    "terminator.\n",
    "\n",
    "![pYPKa_Z and pYPKa_E plasmids](pYPK_ZE.png \"pYPKa_Z and pYPKa_E plasmids\")\n",
    "\n",
    "The [pydna](https://pypi.python.org/pypi/pydna/) package is imported in the code cell below.\n",
    "There is a [publication](http://www.biomedcentral.com/1471-2105/16/142) describing pydna as well as\n",
    "[documentation](http://pydna.readthedocs.io/) available online.\n",
    "Pydna is developed on [Github](https://github.com/BjornFJohansson/pydna)."
   ]
  },
  {
   "cell_type": "code",
   "execution_count": 1,
   "metadata": {},
   "outputs": [],
   "source": [
    "from pydna.readers import read\n",
    "from pydna.parsers import parse_primers\n",
    "from pydna.genbank import Genbank\n",
    "from pydna.amplify import pcr\n",
    "from pydna.amplify import Anneal"
   ]
  },
  {
   "cell_type": "markdown",
   "metadata": {},
   "source": [
    "The vector backbone pYPKa is read from a local [file](pYPKa.gb)."
   ]
  },
  {
   "cell_type": "code",
   "execution_count": 2,
   "metadata": {},
   "outputs": [],
   "source": [
    "pYPKa = read(\"pYPKa.gb\")"
   ]
  },
  {
   "cell_type": "markdown",
   "metadata": {},
   "source": [
    "Both restriction enzymes are imported from [Biopython](http://biopython.org/wiki/Main_Page)"
   ]
  },
  {
   "cell_type": "code",
   "execution_count": 3,
   "metadata": {},
   "outputs": [],
   "source": [
    "from Bio.Restriction import ZraI, EcoRV"
   ]
  },
  {
   "cell_type": "markdown",
   "metadata": {},
   "source": [
    "The vector is cut with both enzymes."
   ]
  },
  {
   "cell_type": "code",
   "execution_count": 4,
   "metadata": {},
   "outputs": [],
   "source": [
    "pYPKa_ZraI  = pYPKa.linearize(ZraI)\n",
    "pYPKa_EcoRV = pYPKa.linearize(EcoRV)"
   ]
  },
  {
   "cell_type": "markdown",
   "metadata": {},
   "source": [
    "The template below comes from a Genbank [record](http://www.ncbi.nlm.nih.gov/nuccore/BK006944.2).\n",
    "Access to Genbank is needed in order to download the template.\n",
    "If you execute this script, change the email address below to your own.\n",
    "Always tell Genbank who you are, when using their web service."
   ]
  },
  {
   "cell_type": "code",
   "execution_count": 5,
   "metadata": {},
   "outputs": [],
   "source": [
    "gb = Genbank(\"bjornjobb@gmail.com\")"
   ]
  },
  {
   "cell_type": "markdown",
   "metadata": {},
   "source": [
    "The template is downloaded from Genbank below."
   ]
  },
  {
   "cell_type": "code",
   "execution_count": 6,
   "metadata": {},
   "outputs": [],
   "source": [
    "template = gb.nucleotide(\"BK006944.2 REGION: 108600..109268\")"
   ]
  },
  {
   "cell_type": "markdown",
   "metadata": {},
   "source": [
    "The template is a 669 bp linear DNA fragment."
   ]
  },
  {
   "cell_type": "code",
   "execution_count": 7,
   "metadata": {},
   "outputs": [
    {
     "data": {
      "text/html": [
       "<a href='https://www.ncbi.nlm.nih.gov/nuccore/BK006944.2 ?from=108600&to=109268&strand=1' target='_blank'>BK006944.2  108600-109268</a>"
      ],
      "text/plain": [
       "Gbank(BK006944.2  108600-109268)(-669)"
      ]
     },
     "execution_count": 7,
     "metadata": {},
     "output_type": "execute_result"
    }
   ],
   "source": [
    "template"
   ]
  },
  {
   "cell_type": "markdown",
   "metadata": {},
   "source": [
    "The insert has the sequence shown below."
   ]
  },
  {
   "cell_type": "code",
   "execution_count": 8,
   "metadata": {},
   "outputs": [
    {
     "name": "stdout",
     "output_type": "stream",
     "text": [
      "ACAGAAGAGAGTGTGCGCAATATTTTAGTTCTTAAATATGACATAGATTATCAAAAAACTTTGTATGTTTGCCAGATTTCAGTGAATCTGCAAGAGTATAAATTATAGGAATTTGGGTGAATTAAACCATTTATTATGTTTTATGTATCATGGAAAAAACAGAACCTTTATCAAATCATCTATGAAATTTTGACAGGTTAGCCATTTTCCTCATTTTATTGCTCTGCAATAGTAAATTATATAGATTTATGCAATGCTCTAGGTTCCGGCGGCTTTTCATTTAATGTGAACTCAAGACTATTATCATCCAAACACATTACAACATCCGTACATTTAGTTGGCTCCATTTTTTGAAAAAATACTTCCGAGTAAGATGCTGAAAGTAATCAAATTCCGTGAAAAAGGAACCGATTTGGTAAGGGCGGACCTGCCGGAAGAAAATCGCTCCCGCGTGTCTACTGGACTTTGCTTCTTTGCCAGGCGGGAGAATGAAGCCCACCGGCCTAGCTCTATGGGCGCAGACAGGGATGGTCTCGATTTGCTTTCTCACTGCAATGGAAATTTCTAACATTAGAGCTTCAACGGCTAGCATAAAACAACTACTAACGTTTTCAGTGCTATATTCGAAAGAGCAAACAAAGAGTCCTCAAGAACTACTAATAGATTAAA\n"
     ]
    }
   ],
   "source": [
    "print(str(template.seq))"
   ]
  },
  {
   "cell_type": "markdown",
   "metadata": {},
   "source": [
    "The seguid checksum of the template should be\n",
    "\n",
    "```e-LUZpihsMR3Vgr0uSRr08lyllU```"
   ]
  },
  {
   "cell_type": "code",
   "execution_count": 9,
   "metadata": {},
   "outputs": [
    {
     "data": {
      "text/plain": [
       "e-LUZpihsMR3Vgr0uSRr08lyllU"
      ]
     },
     "execution_count": 9,
     "metadata": {},
     "output_type": "execute_result"
    }
   ],
   "source": [
    "template.seguid()"
   ]
  },
  {
   "cell_type": "markdown",
   "metadata": {},
   "source": [
    "Two primers are used to amplify the insert:"
   ]
  },
  {
   "cell_type": "code",
   "execution_count": 10,
   "metadata": {},
   "outputs": [],
   "source": [
    "fp,rp = parse_primers(\"\"\">767_RPL17A_fw\n",
    "                         ttaaatACAGAAGAGAGTGTGC\n",
    "                         >768_RPL17A_rv\n",
    "                         taattaaTTTAATCTATTAGTAGTTCTTG\"\"\")"
   ]
  },
  {
   "cell_type": "markdown",
   "metadata": {},
   "source": [
    "PCR to create the insert using the primers above."
   ]
  },
  {
   "cell_type": "code",
   "execution_count": 11,
   "metadata": {},
   "outputs": [],
   "source": [
    "prd = pcr(fp, rp, template)\n",
    "assert str(fp.seq) in prd"
   ]
  },
  {
   "cell_type": "markdown",
   "metadata": {},
   "source": [
    "The PCR product has this length in bp."
   ]
  },
  {
   "cell_type": "code",
   "execution_count": 12,
   "metadata": {},
   "outputs": [
    {
     "data": {
      "text/plain": [
       "682"
      ]
     },
     "execution_count": 12,
     "metadata": {},
     "output_type": "execute_result"
    }
   ],
   "source": [
    "len(prd)"
   ]
  },
  {
   "cell_type": "markdown",
   "metadata": {},
   "source": [
    "A figure of the primers annealing on template."
   ]
  },
  {
   "cell_type": "code",
   "execution_count": 13,
   "metadata": {},
   "outputs": [
    {
     "data": {
      "text/plain": [
       "      5ACAGAAGAGAGTGTGC...CAAGAACTACTAATAGATTAAA3\n",
       "                          |||||||||||||||||||||| tm 46.2 (dbd) 48.7\n",
       "                         3GTTCTTGATGATTATCTAATTTaattaat5\n",
       "5ttaaatACAGAAGAGAGTGTGC3\n",
       "       |||||||||||||||| tm 51.5 (dbd) 49.8\n",
       "      3TGTCTTCTCTCACACG...GTTCTTGATGATTATCTAATTT5"
      ]
     },
     "execution_count": 13,
     "metadata": {},
     "output_type": "execute_result"
    }
   ],
   "source": [
    "prd.figure()"
   ]
  },
  {
   "cell_type": "markdown",
   "metadata": {},
   "source": [
    "A suggested PCR program."
   ]
  },
  {
   "cell_type": "code",
   "execution_count": 14,
   "metadata": {},
   "outputs": [
    {
     "data": {
      "text/plain": [
       "\n",
       "Taq (rate 30 nt/s) 35 cycles             |682bp\n",
       "95.0°C    |95.0°C                 |      |Tm formula: Biopython Tm_NN\n",
       "|_________|_____          72.0°C  |72.0°C|SaltC 50mM\n",
       "| 03min00s|30s  \\         ________|______|Primer1C 1.0µM\n",
       "|         |      \\ 50.6°C/ 0min20s| 5min |Primer2C 1.0µM\n",
       "|         |       \\_____/         |      |GC 36%\n",
       "|         |         30s           |      |4-12°C"
      ]
     },
     "execution_count": 14,
     "metadata": {},
     "output_type": "execute_result"
    }
   ],
   "source": [
    "prd.program()"
   ]
  },
  {
   "cell_type": "markdown",
   "metadata": {},
   "source": [
    "The final vectors are:"
   ]
  },
  {
   "cell_type": "code",
   "execution_count": 15,
   "metadata": {},
   "outputs": [],
   "source": [
    "pYPKa_Z_RPL17A = (pYPKa_ZraI  + prd).looped().synced(pYPKa)\n",
    "pYPKa_E_RPL17A = (pYPKa_EcoRV + prd).looped().synced(pYPKa)"
   ]
  },
  {
   "cell_type": "markdown",
   "metadata": {},
   "source": [
    "The final vectors with reverse inserts are created below. These vectors theoretically make up\n",
    "fifty percent of the clones. The PCR strategy below is used to identify clones with the insert\n",
    "in the correct orientation."
   ]
  },
  {
   "cell_type": "code",
   "execution_count": 16,
   "metadata": {},
   "outputs": [],
   "source": [
    "pYPKa_Z_RPL17Ab = (pYPKa_ZraI  + prd.rc()).looped().synced(pYPKa)\n",
    "pYPKa_E_RPL17Ab = (pYPKa_EcoRV + prd.rc()).looped().synced(pYPKa)"
   ]
  },
  {
   "cell_type": "markdown",
   "metadata": {},
   "source": [
    "A combination of standard primers and the primers above are\n",
    "used for the strategy to identify correct clones.\n",
    "Standard primers are listed [here](primers.fasta)."
   ]
  },
  {
   "cell_type": "code",
   "execution_count": 17,
   "metadata": {},
   "outputs": [],
   "source": [
    "p = { x.id: x for x in parse_primers(\"\"\">577\n",
    "                                         gttctgatcctcgagcatcttaagaattc\n",
    "                                         >578\n",
    "                                         gttcttgtctcattgccacattcataagt\n",
    "                                         >468\n",
    "                                         gtcgaggaacgccaggttgcccact\n",
    "                                         >467\n",
    "                                         ATTTAAatcctgatgcgtttgtctgcacaga\n",
    "                                         >567\n",
    "                                         GTcggctgcaggtcactagtgag\n",
    "                                         >568\n",
    "                                         GTGCcatctgtgcagacaaacg\n",
    "                                         >775\n",
    "                                         gcggccgctgacTTAAAT\n",
    "                                         >778\n",
    "                                         ggtaaatccggatTAATTAA\n",
    "                                         >342\n",
    "                                         CCTTTTTACGGTTCCTGGCCT\"\"\") }"
   ]
  },
  {
   "cell_type": "markdown",
   "metadata": {},
   "source": [
    "## Diagnostic PCR confirmation\n",
    "\n",
    "The correct structure of pYPKa_Z_RPL17A is confirmed by PCR using standard primers\n",
    "577 and 342 that are vector specific together with the RPL17Afw primer specific for the insert\n",
    "in a multiplex PCR reaction with\n",
    "all three primers present.\n",
    "\n",
    "Two PCR products are expected if the insert was cloned, the sizes depend\n",
    "on the orientation. If the vector is empty or contains another insert, only one\n",
    "product is formed.\n",
    "\n",
    "#### Expected PCR products sizes from pYPKa_Z_RPL17A:\n",
    "\n",
    "pYPKa_Z_RPL17A with insert in correct orientation."
   ]
  },
  {
   "cell_type": "code",
   "execution_count": 18,
   "metadata": {},
   "outputs": [
    {
     "data": {
      "text/plain": [
       "[Amplicon(1616), Amplicon(1448)]"
      ]
     },
     "execution_count": 18,
     "metadata": {},
     "output_type": "execute_result"
    }
   ],
   "source": [
    "Anneal( (p['577'], p['342'], fp), pYPKa_Z_RPL17A).products"
   ]
  },
  {
   "cell_type": "markdown",
   "metadata": {},
   "source": [
    "pYPKa_Z_RPL17A with insert in reverse orientation."
   ]
  },
  {
   "cell_type": "code",
   "execution_count": 19,
   "metadata": {},
   "outputs": [
    {
     "data": {
      "text/plain": [
       "[Amplicon(1616), Amplicon(850)]"
      ]
     },
     "execution_count": 19,
     "metadata": {},
     "output_type": "execute_result"
    }
   ],
   "source": [
    "Anneal( (p['577'], p['342'], fp), pYPKa_Z_RPL17Ab).products"
   ]
  },
  {
   "cell_type": "markdown",
   "metadata": {},
   "source": [
    "Empty pYPKa clone."
   ]
  },
  {
   "cell_type": "code",
   "execution_count": 20,
   "metadata": {},
   "outputs": [
    {
     "data": {
      "text/plain": [
       "[Amplicon(934)]"
      ]
     },
     "execution_count": 20,
     "metadata": {},
     "output_type": "execute_result"
    }
   ],
   "source": [
    "Anneal( (p['577'], p['342'], fp), pYPKa).products"
   ]
  },
  {
   "cell_type": "markdown",
   "metadata": {},
   "source": [
    "#### Expected PCR products sizes pYPKa_E_RPL17A:\n",
    "\n",
    "pYPKa_E_RPL17A with insert in correct orientation."
   ]
  },
  {
   "cell_type": "code",
   "execution_count": 21,
   "metadata": {},
   "outputs": [
    {
     "data": {
      "text/plain": [
       "[Amplicon(1616), Amplicon(1367)]"
      ]
     },
     "execution_count": 21,
     "metadata": {},
     "output_type": "execute_result"
    }
   ],
   "source": [
    "Anneal( (p['577'], p['342'], fp), pYPKa_E_RPL17A).products"
   ]
  },
  {
   "cell_type": "markdown",
   "metadata": {},
   "source": [
    "pYPKa_E_RPL17A with insert in reverse orientation."
   ]
  },
  {
   "cell_type": "code",
   "execution_count": 22,
   "metadata": {},
   "outputs": [
    {
     "data": {
      "text/plain": [
       "[Amplicon(1616), Amplicon(931)]"
      ]
     },
     "execution_count": 22,
     "metadata": {},
     "output_type": "execute_result"
    }
   ],
   "source": [
    "Anneal( (p['577'], p['342'], fp), pYPKa_E_RPL17Ab).products\n"
   ]
  },
  {
   "cell_type": "markdown",
   "metadata": {},
   "source": [
    "Calculate cseguid checksums for the resulting plasmids for future reference.\n",
    "Cseguid is a checksum that uniquely describes a circular double stranded\n",
    "sequence.\n",
    "\n",
    "pYPKa_Z_RPL17A.cseguid() should be xaEdXO8_Gnw6BbvSSeqUJUTe2_Y"
   ]
  },
  {
   "cell_type": "code",
   "execution_count": 23,
   "metadata": {},
   "outputs": [
    {
     "name": "stdout",
     "output_type": "stream",
     "text": [
      "xaEdXO8_Gnw6BbvSSeqUJUTe2_Y\n"
     ]
    }
   ],
   "source": [
    "print(pYPKa_Z_RPL17A.cseguid())\n",
    "assert pYPKa_Z_RPL17A.cseguid() == \"xaEdXO8_Gnw6BbvSSeqUJUTe2_Y\""
   ]
  },
  {
   "cell_type": "markdown",
   "metadata": {},
   "source": [
    "pYPKa_E_RPL17A.cseguid() should be kMs0plSBpNgICd-W1doaFPSn2aA"
   ]
  },
  {
   "cell_type": "code",
   "execution_count": 24,
   "metadata": {},
   "outputs": [
    {
     "name": "stdout",
     "output_type": "stream",
     "text": [
      "kMs0plSBpNgICd-W1doaFPSn2aA\n"
     ]
    }
   ],
   "source": [
    "print(pYPKa_E_RPL17A.cseguid())\n",
    "assert pYPKa_E_RPL17A.cseguid() == \"kMs0plSBpNgICd-W1doaFPSn2aA\""
   ]
  },
  {
   "cell_type": "markdown",
   "metadata": {},
   "source": [
    "The sequences are named based on the name of the cloned insert."
   ]
  },
  {
   "cell_type": "code",
   "execution_count": 25,
   "metadata": {},
   "outputs": [],
   "source": [
    "pYPKa_Z_RPL17A.locus = \"pYPKa_Z_RPL17A\"[:16]\n",
    "pYPKa_E_RPL17A.locus = \"pYPKa_Z_RPL17A\"[:16]"
   ]
  },
  {
   "cell_type": "markdown",
   "metadata": {},
   "source": [
    "Stamp sequence with cseguid checksum. This can be used to verify the\n",
    "integrity of the sequence file."
   ]
  },
  {
   "cell_type": "code",
   "execution_count": 26,
   "metadata": {},
   "outputs": [
    {
     "data": {
      "text/plain": [
       "cSEGUID_kMs0plSBpNgICd-W1doaFPSn2aA"
      ]
     },
     "execution_count": 26,
     "metadata": {},
     "output_type": "execute_result"
    }
   ],
   "source": [
    "pYPKa_Z_RPL17A.stamp()\n",
    "pYPKa_E_RPL17A.stamp()"
   ]
  },
  {
   "cell_type": "markdown",
   "metadata": {},
   "source": [
    "Sequences are written to local files."
   ]
  },
  {
   "cell_type": "code",
   "execution_count": 27,
   "metadata": {},
   "outputs": [
    {
     "data": {
      "text/html": [
       "<font face=monospace><a href='pYPKa_Z_RPL17A.gb' target='_blank'>pYPKa_Z_RPL17A.gb</a></font><br>"
      ]
     },
     "metadata": {},
     "output_type": "display_data"
    },
    {
     "data": {
      "text/html": [
       "<font face=monospace><a href='pYPKa_E_RPL17A.gb' target='_blank'>pYPKa_E_RPL17A.gb</a></font><br>"
      ]
     },
     "metadata": {},
     "output_type": "display_data"
    }
   ],
   "source": [
    "pYPKa_Z_RPL17A.write(\"pYPKa_Z_RPL17A.gb\")\n",
    "pYPKa_E_RPL17A.write(\"pYPKa_E_RPL17A.gb\")"
   ]
  },
  {
   "cell_type": "markdown",
   "metadata": {},
   "source": [
    "# [pYPKa_Z_RPL17A](pYPKa_Z_RPL17A.gb)"
   ]
  },
  {
   "cell_type": "code",
   "execution_count": 28,
   "metadata": {},
   "outputs": [
    {
     "data": {
      "text/plain": [
       "cSEGUID_xaEdXO8_Gnw6BbvSSeqUJUTe2_Y"
      ]
     },
     "execution_count": 28,
     "metadata": {},
     "output_type": "execute_result"
    }
   ],
   "source": [
    "from pydna.readers import read\n",
    "reloaded = read(\"pYPKa_Z_RPL17A.gb\")\n",
    "reloaded.verify_stamp()"
   ]
  },
  {
   "cell_type": "markdown",
   "metadata": {},
   "source": [
    "# [pYPKa_E_RPL17A](pYPKa_E_RPL17A.gb)"
   ]
  },
  {
   "cell_type": "code",
   "execution_count": 29,
   "metadata": {},
   "outputs": [
    {
     "data": {
      "text/plain": [
       "cSEGUID_kMs0plSBpNgICd-W1doaFPSn2aA"
      ]
     },
     "execution_count": 29,
     "metadata": {},
     "output_type": "execute_result"
    }
   ],
   "source": [
    "from pydna.readers import read\n",
    "reloaded = read(\"pYPKa_E_RPL17A.gb\")\n",
    "reloaded.verify_stamp()"
   ]
  }
 ],
 "metadata": {},
 "nbformat": 4,
 "nbformat_minor": 2
}
