{
 "metadata": {
  "signature": "sha256:9290ce9c0a51aa1b014addb8dd6ee7695bde26cc3b79191a0a5521d9a0696dd4"
 },
 "nbformat": 3,
 "nbformat_minor": 0,
 "worksheets": [
  {
   "cells": [
    {
     "cell_type": "code",
     "collapsed": false,
     "input": [
      "from pydna import ipynb_importer\n",
      "from pYPKa import pYPKa\n",
      "from pydna import pcr, parse, Genbank, Dseqrecord\n",
      "from Bio.Restriction import ZraI, AjiI, EcoRV\n",
      "\n",
      "gb = Genbank(\"bjornjobbb@gmail.com\")\n",
      "\n",
      "enz = ZraI \n",
      "\n",
      "tp = gb.nucleotide(\"BK006944.2 REGION: complement(327487..328117)\") \n",
      "\n",
      "# primers ok\n",
      "\n",
      "primers = parse('''\n",
      ">409_ScFBA1tpf (37-mer)\n",
      "TTAAATAATAACAATACTGACAGTACTAAATAATTGC\n",
      ">624_ScFBA1tpr_PacI (29-mer)\n",
      "taattaaTTTGAATATGTATTACTTGGTT\n",
      "''', ds=False)"
     ],
     "language": "python",
     "metadata": {},
     "outputs": [],
     "prompt_number": 6
    },
    {
     "cell_type": "code",
     "collapsed": false,
     "input": [
      "str(tp.seq)"
     ],
     "language": "python",
     "metadata": {},
     "outputs": [
      {
       "metadata": {},
       "output_type": "pyout",
       "prompt_number": 7,
       "text": [
        "'ATAACAATACTGACAGTACTAAATAATTGCCTACTTGGCTTCACATACGTTGCATACGTCGATATAGATAATAATGATAATGACAGCAGGATTATCGTAATACGTAATAGTTGAAAATCTCAAAAATGTGTGGGTCATTACGTAAATAATGATAGGAATGGGATTCTTCTATTTTTCCTTTTTCCATTCTAGCAGCCGTCGGGAAAACGTGGCATCCTCTCTTTCGGGCTCAATTGGAGTCACGCTGCCGTGAGCATCCTCTCTTTCCATATCTAACAACTGAGCACGTAACCAATGGAAAAGCATGAGCTTAGCGTTGCTCCAAAAAAGTATTGGATGGTTAATACCATTTGTCTGTTCTCTTCTGACTTTGACTCCTCAAAAAAAAAAAATCTACAATCAACAGATCGCTTCAATTACGCCCTCACAAAAACTTTTTTCCTTCTTCTTCGCCCACGTTAAATTTTATCCCTCATGTTGTCTAACGGATTTCTGCACTTGATTTATTATAAAAAGACAAAGACATAATACTTCTCTATCAATTTCAGTTATTGTTCTTCCTTGCGTTATTCTTCTGTTCTTCTTTTTCTTTTGTCATATATAACCATAACCAAGTAATACATATTCAAAA'"
       ]
      }
     ],
     "prompt_number": 7
    },
    {
     "cell_type": "code",
     "collapsed": false,
     "input": [
      "tp = pcr( primers, Dseqrecord(tp))"
     ],
     "language": "python",
     "metadata": {},
     "outputs": [],
     "prompt_number": 8
    },
    {
     "cell_type": "code",
     "collapsed": false,
     "input": [
      "pYPKa_cut = pYPKa.cut(enz).pop()\n",
      "\n",
      "pYPKa_enz_tp = (pYPKa_cut + tp).looped()\n",
      "\n",
      "pYPKa_enz_tp = pYPKa_enz_tp.synced(pYPKa)\n",
      "\n",
      "pYPKa_Z_FBA1tp = pYPKa_enz_tp"
     ],
     "language": "python",
     "metadata": {},
     "outputs": [],
     "prompt_number": 9
    },
    {
     "cell_type": "code",
     "collapsed": false,
     "input": [
      "pYPKa_Z_FBA1tp.write(\"pYPKa_Z_FBA1tp.gb\")"
     ],
     "language": "python",
     "metadata": {},
     "outputs": [],
     "prompt_number": 10
    },
    {
     "cell_type": "markdown",
     "metadata": {},
     "source": [
      "## Download\n",
      "\n",
      "[pYPKa_Z_FBA1tp](pYPKa_Z_FBA1tp.gb)"
     ]
    },
    {
     "cell_type": "code",
     "collapsed": false,
     "input": [],
     "language": "python",
     "metadata": {},
     "outputs": []
    }
   ],
   "metadata": {}
  }
 ]
}