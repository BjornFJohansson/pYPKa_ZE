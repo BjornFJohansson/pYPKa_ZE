{
 "metadata": {
  "signature": "sha256:677a437ab155ddd99ff29cb5a596ad06058be2750c706c3af220da49db7eb2f3"
 },
 "nbformat": 3,
 "nbformat_minor": 0,
 "worksheets": [
  {
   "cells": [
    {
     "cell_type": "code",
     "collapsed": false,
     "input": [
      "from pydna import ipynb_importer\n",
      "from pYPKa import pYPKa\n",
      "from pydna import pcr, parse, Dseqrecord\n",
      "from Bio.Restriction import ZraI, AjiI, EcoRV\n",
      "\n",
      "enz = ZraI\n",
      "\n",
      "tp = \"RPS19b\"\n",
      "\n",
      "# primers ok\n",
      "\n",
      "primers = parse('''>648_ScRPS19btpf2\n",
      "                   ttaaatTCTAGTATGGTTTGAAACCT    \n",
      "                   >647_ScRPS19btpr_PacI\n",
      "                   taattaaCTTTATTATCTTTGGTTCTAT''', ds=False)\n",
      "\n",
      "pYPKa_cut = pYPKa.cut(enz).pop()\n",
      "\n",
      "from pygenome import sg"
     ],
     "language": "python",
     "metadata": {},
     "outputs": [],
     "prompt_number": 2
    },
    {
     "cell_type": "code",
     "collapsed": false,
     "input": [
      "str(sg.promoter(tp).seq)"
     ],
     "language": "python",
     "metadata": {},
     "outputs": [
      {
       "metadata": {},
       "output_type": "pyout",
       "prompt_number": 3,
       "text": [
        "'TCTAGTATGGTTTGAAACCTTACAATTTTTCTTCTTTGTTCCTTTTTCCTTGTTTCAGTGTATATTAGGTTGGGAAAGAGGGATTTTTCCATACCATATGACTGACTACAATATATACATGTATAATAACTTCATAATCTAAACCTATCAGTTCAGTATCAAGTCAGCTATTCCGCCCTATGCATAAACCTACAAACTATCATTCACACACTTTTCCCATTTTTTTTCAATACTACTTTACATCCGAACATTTTAGCAACCCACACCATATACCTTTGGTGCACTATTGATTTTCTTCCTGATGTCAGCTTTTTGTGCTTTGACAAAAAAATCGCGTCTACGTCCGTCCGTTCTCCCTGAATAAATTAGGCGCGTTTGAGCCCAGCAGGACGGAGCTCTAGTGACAAGCCCTGGTGTTTGGTGAGGTTTTGCACATTGCTGTTCTTTCTACTGTATTGAGATCTCCAGTTTACGGCTCCCTGGGAGCCACCCGTAACGCGGTTGGTGTGCCCATTTCAATAAGCGAACATTAGTGAAGATACAATCGTTAAAATGGACTAATGAAATTTTAAAGTGGGATTTTTGTGAATATTGACAACAAAGGTATAGAACCAAAGATAATAAAG'"
       ]
      }
     ],
     "prompt_number": 3
    },
    {
     "cell_type": "code",
     "collapsed": false,
     "input": [
      "tp = pcr( primers, Dseqrecord(sg.promoter(tp)))\n",
      "\n",
      "pYPKa_enz_tp = (pYPKa_cut + tp).looped()\n",
      "\n",
      "pYPKa_enz_tp = pYPKa_enz_tp.synced(pYPKa)\n",
      "\n",
      "pYPKa_Z_RPS19btp = pYPKa_enz_tp"
     ],
     "language": "python",
     "metadata": {},
     "outputs": [],
     "prompt_number": 1
    },
    {
     "cell_type": "code",
     "collapsed": false,
     "input": [
      "pYPKa_Z_RPS19btp.write(\"pYPKa_Z_RPS19btp.gb\")"
     ],
     "language": "python",
     "metadata": {},
     "outputs": [],
     "prompt_number": 2
    },
    {
     "cell_type": "markdown",
     "metadata": {},
     "source": [
      "## Download\n",
      "\n",
      "[pYPKa_Z_RPS19btp](pYPKa_Z_RPS19btp.gb)"
     ]
    },
    {
     "cell_type": "code",
     "collapsed": false,
     "input": [],
     "language": "python",
     "metadata": {},
     "outputs": []
    }
   ],
   "metadata": {}
  }
 ]
}