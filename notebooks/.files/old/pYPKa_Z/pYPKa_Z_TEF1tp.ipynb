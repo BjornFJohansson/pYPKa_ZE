{
 "metadata": {
  "signature": "sha256:ca876223d28695ed130ce7d5396bf5b10ce110472fa0049152017c505c10c628"
 },
 "nbformat": 3,
 "nbformat_minor": 0,
 "worksheets": [
  {
   "cells": [
    {
     "cell_type": "code",
     "collapsed": false,
     "input": [
      "from pydna import ipynb_importer\n",
      "from pydna import pcr, parse, Dseqrecord"
     ],
     "language": "python",
     "metadata": {},
     "outputs": [],
     "prompt_number": 2
    },
    {
     "cell_type": "code",
     "collapsed": false,
     "input": [
      "from pYPKa import pYPKa"
     ],
     "language": "python",
     "metadata": {},
     "outputs": [],
     "prompt_number": 3
    },
    {
     "cell_type": "code",
     "collapsed": false,
     "input": [
      "from Bio.Restriction import ZraI"
     ],
     "language": "python",
     "metadata": {},
     "outputs": [],
     "prompt_number": 4
    },
    {
     "cell_type": "code",
     "collapsed": false,
     "input": [
      "enz = ZraI\n",
      "\n",
      "tp = \"TEF1\"\n",
      "\n",
      "# primers ok\n",
      "\n",
      "primers = parse('''>417_ScTEF1tpf (30-mer)\n",
      "                   TTAAATAACAATGCATACTTTGTACGTTCA\n",
      "                   >626_ScTEF1tpr_PacI (35-mer)\n",
      "                   taattaaTTTGTAATTAAAACTTAGATTAGATTGC''', ds=False)\n",
      "\n",
      "pYPKa_cut = pYPKa.cut(enz).pop()\n",
      "\n",
      "from pygenome import sg"
     ],
     "language": "python",
     "metadata": {},
     "outputs": [],
     "prompt_number": 16
    },
    {
     "cell_type": "code",
     "collapsed": false,
     "input": [
      "str(sg.promoter(tp).seq)"
     ],
     "language": "python",
     "metadata": {},
     "outputs": [
      {
       "metadata": {},
       "output_type": "pyout",
       "prompt_number": 19,
       "text": [
        "'ACAATGCATACTTTGTACGTTCAAAATACAATGCAGTAGATATATTTATGCATATTACATATAATACATATCACATAGGAAGCAACAGGCGCGTTGGACTTTTAATTTTCGAGGACCGCGAATCCTTACATCACACCCAATCCCCCACAAGTGATCCCCCACACACCATAGCTTCAAAATGTTTCTACTCCTTTTTTACTCTTCCAGATTTTCTCGGACTCCGCGCATCGCCGTACCACTTCAAAACACCCAAGCACAGCATACTAAATTTCCCCTCTTTCTTCCTCTAGGGTGTCGTTAATTACCCGTACTAAAGGTTTGGAAAAGAAAAAAGAGACCGCCTCGTTTCTTTTTCTTCGTCGAAAAAGGCAATAAAAATTTTTATCACGTTTCTTTTTCTTGAAAATTTTTTTTTTTGATTTTTTTCTCTTTCGATGACCTCCCATTGATATTTAAGTTAATAAACGGTCTTCAATTTCTCAAGTTTCAGTTTCATTTTTCTTGTTCTATTACAACTTTTTTTACTTCTTGCTCATTAGAAAGAAAGCATAGCAATCTAATCTAAGTTTTAATTACAAA'"
       ]
      }
     ],
     "prompt_number": 19
    },
    {
     "cell_type": "code",
     "collapsed": false,
     "input": [
      "tp = pcr( primers, Dseqrecord(sg.promoter(tp)))\n",
      "\n",
      "pYPKa_enz_tp = (pYPKa_cut + tp).looped()\n",
      "\n",
      "pYPKa_enz_tp = pYPKa_enz_tp.synced(pYPKa)\n",
      "\n",
      "pYPKa_Z_TEF1tp = pYPKa_enz_tp"
     ],
     "language": "python",
     "metadata": {},
     "outputs": [],
     "prompt_number": 9
    },
    {
     "cell_type": "code",
     "collapsed": false,
     "input": [
      "pYPKa_Z_TEF1tp.write(\"pYPKa_Z_TEF1tp.gb\")"
     ],
     "language": "python",
     "metadata": {},
     "outputs": [],
     "prompt_number": 13
    },
    {
     "cell_type": "markdown",
     "metadata": {},
     "source": [
      "## Download\n",
      "\n",
      "[pYPKa_Z_TEF1tp](pYPKa_Z_TEF1tp.gb)"
     ]
    }
   ],
   "metadata": {}
  }
 ]
}