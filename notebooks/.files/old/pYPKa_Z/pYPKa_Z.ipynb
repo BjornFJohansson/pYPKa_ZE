{
 "cells": [
  {
   "cell_type": "markdown",
   "metadata": {},
   "source": [
    "[pYPKa_Z_TEF1tp](pYPKa_Z_TEF1tp.ipynb)\n",
    "\n",
    "[pYPKa_Z_TDH3tp](pYPKa_Z_TDH3tp.ipynb)\n",
    "\n",
    "[pYPKa_Z_PGI1tp](pYPKa_Z_PGI1tp.ipynb)\n",
    "\n",
    "[pYPKa_Z_FBA1tp](pYPKa_Z_FBA1tp.ipynb)\n",
    "\n",
    "[pYPKa_Z_PDC1tp](pYPKa_Z_PDC1tp.ipynb)\n",
    "\n",
    "[pYPKa_Z_RPS19btp](pYPKa_Z_RPS19btp.ipynb)\n",
    "\n",
    "[pYPKa_Z_RPS19atp](pYPKa_Z_RPS19atp.ipynb)\n",
    "\n",
    "[pYPKa_Z_TPI1tp](pYPKa_Z_TPI1tp.ipynb)\n",
    "\n",
    "[pYPKa_Z_ENO2tp](pYPKa_Z_ENO2tp.ipynb)"
   ]
  },
  {
   "cell_type": "code",
   "execution_count": 1,
   "metadata": {
    "collapsed": false
   },
   "outputs": [],
   "source": []
  }
 ],
 "metadata": {},
 "nbformat": 4,
 "nbformat_minor": 2
}
