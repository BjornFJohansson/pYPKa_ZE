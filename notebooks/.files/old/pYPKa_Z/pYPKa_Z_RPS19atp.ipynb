{
 "metadata": {
  "signature": "sha256:0e491a8dbc6e5966d9c68a0b5ff9625c0adaeb53780bccb1b25ea0818e63d547"
 },
 "nbformat": 3,
 "nbformat_minor": 0,
 "worksheets": [
  {
   "cells": [
    {
     "cell_type": "code",
     "collapsed": false,
     "input": [
      "from pydna import ipynb_importer\n",
      "from pYPKa import pYPKa\n",
      "from pydna import pcr, parse, Dseqrecord\n",
      "from Bio.Restriction import ZraI, AjiI, EcoRV\n",
      "\n",
      "enz = ZraI\n",
      "\n",
      "tp = \"RPS19a\"\n",
      "\n",
      "#>538_ScRPS19atpr_FspA (26-mer)\n",
      "#gcgcatGTTAACTGAAATGAAAATTT\n",
      "\n",
      "# primers ok\n",
      "\n",
      "primers = parse('''>652_ScRPS19atpf2\n",
      "                   ttaaatGTTAACTGAAATGAAAATTT\n",
      "                   >651_ScRPS19atpr_PacI\n",
      "                   taattaaTTTTACTCTATTTGTCGATC''', ds=False)\n",
      "\n",
      "pYPKa_cut = pYPKa.cut(enz).pop()\n",
      "from pygenome import sg"
     ],
     "language": "python",
     "metadata": {},
     "outputs": [],
     "prompt_number": 4
    },
    {
     "cell_type": "code",
     "collapsed": false,
     "input": [
      "str(sg.promoter(tp).seq)"
     ],
     "language": "python",
     "metadata": {},
     "outputs": [
      {
       "metadata": {},
       "output_type": "pyout",
       "prompt_number": 5,
       "text": [
        "'GTTAACTGAAATGAAAATTTCATATTTACTTTTTTATTGTTACTCATTTGTAATTCATAAACTACATACACTTTCAATCGTTTCTTTCAAACTACATAATTTTTACTGGCGATCAATAACGCATTTAGTTCATAAAGTGAGTCAAAGTTAACACTAGAATATTTGCTACACCATCAATAGGCTAGACCATAGTTGAAAACTTTCATAATAAATTCTTCCGTTTTCAATCTTCATATACTGTGTCTCTAACCATGATACCGTGACACAACTACATCCGTACACATGTGACGTTCGTTCAACCCGTACATTTATATAAAACCGTTCTGGCGGCCTTTTATTTTTTTACATTTCTTATGATCGGGATTGCAGAACGCCGTGAAATTTTTCAATGTGAGGTTCGGCCTTGTTTGCAAAAGCCCTATTGAGATACCGGAAAGATATAGGTGAAATGAAGAAAACTATGGGTTGTATATCTAATACCCCGGTGCGTTTATTAATATTTTAGCTTGAAAGCGAAGTGATACGATCGACAAATAGAGTAAAA'"
       ]
      }
     ],
     "prompt_number": 5
    },
    {
     "cell_type": "code",
     "collapsed": false,
     "input": [
      "tp = pcr( primers, Dseqrecord(sg.promoter(tp)))\n",
      "pYPKa_enz_tp = (pYPKa_cut + tp).looped()\n",
      "pYPKa_enz_tp = pYPKa_enz_tp.synced(pYPKa)\n",
      "pYPKa_Z_RPS19atp = pYPKa_enz_tp"
     ],
     "language": "python",
     "metadata": {},
     "outputs": [],
     "prompt_number": 6
    },
    {
     "cell_type": "code",
     "collapsed": false,
     "input": [
      "pYPKa_Z_RPS19atp.write(\"pYPKa_Z_RPS19atp.gb\")"
     ],
     "language": "python",
     "metadata": {},
     "outputs": [],
     "prompt_number": 7
    },
    {
     "cell_type": "markdown",
     "metadata": {},
     "source": [
      "## Download\n",
      "\n",
      "[pYPKa_Z_RPS19atp](pYPKa_Z_RPS19atp.gb)"
     ]
    },
    {
     "cell_type": "code",
     "collapsed": false,
     "input": [],
     "language": "python",
     "metadata": {},
     "outputs": []
    }
   ],
   "metadata": {}
  }
 ]
}