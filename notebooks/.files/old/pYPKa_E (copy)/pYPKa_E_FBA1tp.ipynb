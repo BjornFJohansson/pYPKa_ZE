{
 "metadata": {
  "signature": "sha256:10e701a450ff878af67d5c2fd3ade7b9ee9b4178045bc1195a6ee70987da5bc8"
 },
 "nbformat": 3,
 "nbformat_minor": 0,
 "worksheets": [
  {
   "cells": [
    {
     "cell_type": "code",
     "collapsed": false,
     "input": [
      "from pydna import ipynb_importer\n",
      "from pYPKa import pYPKa\n",
      "from pydna import pcr, parse, Genbank, Dseqrecord\n",
      "from Bio.Restriction import ZraI, AjiI, EcoRV\n",
      "\n",
      "gb = Genbank(\"bjornjobbb@gmail.com\")\n",
      "\n",
      "enz = EcoRV \n",
      "\n",
      "tp = gb.nucleotide(\"BK006944.2 REGION: complement(327487..328117)\") "
     ],
     "language": "python",
     "metadata": {},
     "outputs": [],
     "prompt_number": 8
    },
    {
     "cell_type": "code",
     "collapsed": false,
     "input": [
      "str(tp.seq)"
     ],
     "language": "python",
     "metadata": {},
     "outputs": [
      {
       "metadata": {},
       "output_type": "pyout",
       "prompt_number": 10,
       "text": [
        "'ATAACAATACTGACAGTACTAAATAATTGCCTACTTGGCTTCACATACGTTGCATACGTCGATATAGATAATAATGATAATGACAGCAGGATTATCGTAATACGTAATAGTTGAAAATCTCAAAAATGTGTGGGTCATTACGTAAATAATGATAGGAATGGGATTCTTCTATTTTTCCTTTTTCCATTCTAGCAGCCGTCGGGAAAACGTGGCATCCTCTCTTTCGGGCTCAATTGGAGTCACGCTGCCGTGAGCATCCTCTCTTTCCATATCTAACAACTGAGCACGTAACCAATGGAAAAGCATGAGCTTAGCGTTGCTCCAAAAAAGTATTGGATGGTTAATACCATTTGTCTGTTCTCTTCTGACTTTGACTCCTCAAAAAAAAAAAATCTACAATCAACAGATCGCTTCAATTACGCCCTCACAAAAACTTTTTTCCTTCTTCTTCGCCCACGTTAAATTTTATCCCTCATGTTGTCTAACGGATTTCTGCACTTGATTTATTATAAAAAGACAAAGACATAATACTTCTCTATCAATTTCAGTTATTGTTCTTCCTTGCGTTATTCTTCTGTTCTTCTTTTTCTTTTGTCATATATAACCATAACCAAGTAATACATATTCAAAA'"
       ]
      }
     ],
     "prompt_number": 10
    },
    {
     "cell_type": "code",
     "collapsed": false,
     "input": [
      "primers = parse('''\n",
      ">624_ScFBA1tpr_PacI (29-mer)\n",
      "taattaaTTTGAATATGTATTACTTGGTT\n",
      ">409_ScFBA1tpf (37-mer)\n",
      "TTAAATAATAACAATACTGACAGTACTAAATAATTGC\n",
      "\n",
      "''', ds=False)\n",
      "\n",
      "pYPKa_cut = pYPKa.cut(enz).pop()\n",
      "\n",
      "tp = pcr( primers, Dseqrecord(tp))\n",
      "\n",
      "pYPKa_enz_tp = (pYPKa_cut + tp).looped()\n",
      "\n",
      "pYPKa_enz_tp = pYPKa_enz_tp.synced(pYPKa)\n",
      "\n",
      "pYPKa_E_FBA1tp = pYPKa_enz_tp"
     ],
     "language": "python",
     "metadata": {},
     "outputs": [],
     "prompt_number": 11
    },
    {
     "cell_type": "code",
     "collapsed": false,
     "input": [
      "pYPKa_E_FBA1tp.write(\"pYPKa_E_FBA1tp.gb\")"
     ],
     "language": "python",
     "metadata": {},
     "outputs": [],
     "prompt_number": 12
    },
    {
     "cell_type": "markdown",
     "metadata": {},
     "source": [
      "## Download\n",
      "\n",
      "[pYPKa_E_FBA1tp](pYPKa_E_FBA1tp.gb)"
     ]
    },
    {
     "cell_type": "code",
     "collapsed": false,
     "input": [],
     "language": "python",
     "metadata": {},
     "outputs": [],
     "prompt_number": 12
    },
    {
     "cell_type": "code",
     "collapsed": false,
     "input": [],
     "language": "python",
     "metadata": {},
     "outputs": []
    }
   ],
   "metadata": {}
  }
 ]
}