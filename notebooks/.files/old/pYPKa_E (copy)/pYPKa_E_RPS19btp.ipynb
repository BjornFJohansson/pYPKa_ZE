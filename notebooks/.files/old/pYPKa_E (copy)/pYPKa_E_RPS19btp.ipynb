{
 "metadata": {
  "signature": "sha256:87b8957625230087d3ec5113da912e1c602e88f794b6d66680bec7432b850fba"
 },
 "nbformat": 3,
 "nbformat_minor": 0,
 "worksheets": [
  {
   "cells": [
    {
     "cell_type": "code",
     "collapsed": false,
     "input": [
      "from pydna import ipynb_importer\n",
      "from pYPKa import pYPKa\n",
      "from pydna import pcr, parse, Dseqrecord\n",
      "from Bio.Restriction import ZraI, AjiI, EcoRV\n",
      "\n",
      "enz = EcoRV\n",
      "\n",
      "tp = \"RPS19b\"\n",
      "\n",
      "primers = parse('''>648_ScRPS19btpf2\n",
      "                   ttaaatTCTAGTATGGTTTGAAACCT    \n",
      "                   >647_ScRPS19btpr_PacI\n",
      "                   taattaaCTTTATTATCTTTGGTTCTAT''', ds=False)\n",
      "\n",
      "pYPKa_cut = pYPKa.cut(enz).pop()\n",
      "\n",
      "from pygenome import sg"
     ],
     "language": "python",
     "metadata": {},
     "outputs": [],
     "prompt_number": 8
    },
    {
     "cell_type": "code",
     "collapsed": false,
     "input": [
      "str(sg.promoter(tp).seq)"
     ],
     "language": "python",
     "metadata": {},
     "outputs": [
      {
       "metadata": {},
       "output_type": "pyout",
       "prompt_number": 9,
       "text": [
        "'TCTAGTATGGTTTGAAACCTTACAATTTTTCTTCTTTGTTCCTTTTTCCTTGTTTCAGTGTATATTAGGTTGGGAAAGAGGGATTTTTCCATACCATATGACTGACTACAATATATACATGTATAATAACTTCATAATCTAAACCTATCAGTTCAGTATCAAGTCAGCTATTCCGCCCTATGCATAAACCTACAAACTATCATTCACACACTTTTCCCATTTTTTTTCAATACTACTTTACATCCGAACATTTTAGCAACCCACACCATATACCTTTGGTGCACTATTGATTTTCTTCCTGATGTCAGCTTTTTGTGCTTTGACAAAAAAATCGCGTCTACGTCCGTCCGTTCTCCCTGAATAAATTAGGCGCGTTTGAGCCCAGCAGGACGGAGCTCTAGTGACAAGCCCTGGTGTTTGGTGAGGTTTTGCACATTGCTGTTCTTTCTACTGTATTGAGATCTCCAGTTTACGGCTCCCTGGGAGCCACCCGTAACGCGGTTGGTGTGCCCATTTCAATAAGCGAACATTAGTGAAGATACAATCGTTAAAATGGACTAATGAAATTTTAAAGTGGGATTTTTGTGAATATTGACAACAAAGGTATAGAACCAAAGATAATAAAG'"
       ]
      }
     ],
     "prompt_number": 9
    },
    {
     "cell_type": "code",
     "collapsed": false,
     "input": [
      "tp = pcr( primers, Dseqrecord(sg.promoter(tp)))\n",
      "\n",
      "pYPKa_enz_tp = (pYPKa_cut + tp).looped()\n",
      "\n",
      "pYPKa_enz_tp = pYPKa_enz_tp.synced(pYPKa)\n",
      "\n",
      "pYPKa_E_RPS19btp = pYPKa_enz_tp"
     ],
     "language": "python",
     "metadata": {},
     "outputs": [],
     "prompt_number": 10
    },
    {
     "cell_type": "code",
     "collapsed": false,
     "input": [
      "pYPKa_E_RPS19btp.write(\"pYPKa_E_RPS19btp.gb\")"
     ],
     "language": "python",
     "metadata": {},
     "outputs": [],
     "prompt_number": 11
    },
    {
     "cell_type": "markdown",
     "metadata": {},
     "source": [
      "## Download\n",
      "\n",
      "[pYPKa_E_RPS19btp](pYPKa_E_RPS19btp.gb)"
     ]
    },
    {
     "cell_type": "code",
     "collapsed": false,
     "input": [],
     "language": "python",
     "metadata": {},
     "outputs": []
    }
   ],
   "metadata": {}
  }
 ]
}