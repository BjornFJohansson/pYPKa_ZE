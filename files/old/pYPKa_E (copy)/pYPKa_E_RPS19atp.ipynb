{
 "metadata": {
  "signature": "sha256:618106f526bdb0b1e07b57748974e06cd8e61d3c366c120dc7fd31df8eb9b28f"
 },
 "nbformat": 3,
 "nbformat_minor": 0,
 "worksheets": [
  {
   "cells": [
    {
     "cell_type": "code",
     "collapsed": false,
     "input": [
      "from pydna import ipynb_importer\n",
      "from pYPKa import pYPKa\n",
      "from pydna import pcr, parse, Dseqrecord\n",
      "from Bio.Restriction import ZraI, AjiI, EcoRV\n",
      "\n",
      "enz = EcoRV\n",
      "tp = \"RPS19a\"\n",
      "primers = parse('''>538_ScRPS19atpr_FspA (26-mer)\n",
      "                   gcgcatGTTAACTGAAATGAAAATTT                         \n",
      "                   >651_ScRPS19atpr_PacI\n",
      "                   taattaaTTTTACTCTATTTGTCGATC''', ds=False)\n",
      "\n",
      "pYPKa_cut = pYPKa.cut(enz).pop()\n",
      "\n",
      "from pygenome import sg"
     ],
     "language": "python",
     "metadata": {},
     "outputs": [],
     "prompt_number": 1
    },
    {
     "cell_type": "code",
     "collapsed": false,
     "input": [
      "str(sg.promoter(tp).seq)"
     ],
     "language": "python",
     "metadata": {},
     "outputs": [
      {
       "metadata": {},
       "output_type": "pyout",
       "prompt_number": 2,
       "text": [
        "'GTTAACTGAAATGAAAATTTCATATTTACTTTTTTATTGTTACTCATTTGTAATTCATAAACTACATACACTTTCAATCGTTTCTTTCAAACTACATAATTTTTACTGGCGATCAATAACGCATTTAGTTCATAAAGTGAGTCAAAGTTAACACTAGAATATTTGCTACACCATCAATAGGCTAGACCATAGTTGAAAACTTTCATAATAAATTCTTCCGTTTTCAATCTTCATATACTGTGTCTCTAACCATGATACCGTGACACAACTACATCCGTACACATGTGACGTTCGTTCAACCCGTACATTTATATAAAACCGTTCTGGCGGCCTTTTATTTTTTTACATTTCTTATGATCGGGATTGCAGAACGCCGTGAAATTTTTCAATGTGAGGTTCGGCCTTGTTTGCAAAAGCCCTATTGAGATACCGGAAAGATATAGGTGAAATGAAGAAAACTATGGGTTGTATATCTAATACCCCGGTGCGTTTATTAATATTTTAGCTTGAAAGCGAAGTGATACGATCGACAAATAGAGTAAAA'"
       ]
      }
     ],
     "prompt_number": 2
    },
    {
     "cell_type": "code",
     "collapsed": false,
     "input": [
      "tp = pcr( primers, Dseqrecord(sg.promoter(tp)))\n",
      "pYPKa_enz_tp = (pYPKa_cut + tp).looped()\n",
      "pYPKa_enz_tp = pYPKa_enz_tp.synced(pYPKa)\n",
      "pYPKa_E_RPS19atp = pYPKa_enz_tp"
     ],
     "language": "python",
     "metadata": {},
     "outputs": [],
     "prompt_number": 3
    },
    {
     "cell_type": "code",
     "collapsed": false,
     "input": [
      "pYPKa_E_RPS19atp.write(\"pYPKa_E_RPS19atp.gb\")"
     ],
     "language": "python",
     "metadata": {},
     "outputs": [],
     "prompt_number": 4
    },
    {
     "cell_type": "markdown",
     "metadata": {},
     "source": [
      "## Download\n",
      "\n",
      "[pYPKa_E_RPS19atp](pYPKa_E_RPS19atp.gb)"
     ]
    },
    {
     "cell_type": "code",
     "collapsed": false,
     "input": [],
     "language": "python",
     "metadata": {},
     "outputs": []
    }
   ],
   "metadata": {}
  }
 ]
}