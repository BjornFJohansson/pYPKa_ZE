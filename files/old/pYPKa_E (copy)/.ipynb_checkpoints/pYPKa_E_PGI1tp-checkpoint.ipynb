{
 "metadata": {
  "signature": "sha256:bc31a9c66f63ef83192231df29744e03690a357caf603278444f0a0d7ad3577e"
 },
 "nbformat": 3,
 "nbformat_minor": 0,
 "worksheets": [
  {
   "cells": [
    {
     "cell_type": "code",
     "collapsed": false,
     "input": [
      "from pydna import ipynb_importer\n",
      "from pYPKa import pYPKa\n",
      "from pydna import pcr, parse, Dseqrecord\n",
      "from Bio.Restriction import ZraI, AjiI, EcoRV\n",
      "\n",
      "enz = EcoRV\n",
      "\n",
      "tp = \"PGI1\"\n",
      "\n",
      "primers = parse('''\n",
      ">549_ScPGI1tpf (27-mer)\n",
      "ttaaatAATTCAGTTTTCTGACTGAGT\n",
      "\n",
      ">622_ScPGI1tpr_PacI (28-mer)\n",
      "taattaaTTTTAGGCTGGTATCTTGATT''', ds=False)\n",
      "\n",
      "pYPKa_cut = pYPKa.cut(enz).pop()\n",
      "\n",
      "from pygenome import sg"
     ],
     "language": "python",
     "metadata": {},
     "outputs": [],
     "prompt_number": 1
    },
    {
     "cell_type": "code",
     "collapsed": false,
     "input": [
      "str(sg.intergenic_sequence(\"YBR197C\", \"PGI1\").seq)"
     ],
     "language": "python",
     "metadata": {},
     "outputs": [
      {
       "metadata": {},
       "output_type": "pyout",
       "prompt_number": 4,
       "text": [
        "'TGACATGTATGGGTTGAAAATATTTAGAGGATGCTAAAAGTCCCGTCTAAAATAGAGGAAGTCATGGATTACATTATCACCTTTATTGTCCTGTTCCGTCTGGCTAATTTGGGACGAGGAACGTTTGTCTCCATTCGCAACCTTTTGAAACCATATGAACGGCGGCTAATCTGACAGATGTCTTATATTTCTAGGATTGTAGAAAGCCTCCTCATCAAACCACCTTGTTTGAAAAAGGCACTAGTGCGGTTGCTTTACTTGATCTAGTATTCTCCTACCTTGGAGCGGTCCCATATCAACTAAATTCAGTTTTCTGACTGAGTTAAAAACTAATGTAGCGACACCACTTCCATTGGTGCCTCCGTTATTTTTTTTTTGTATGTTAATGCTAAATAATACACCGCTATGTATTTCAGGGCACTACTTCTACACATCAACGGTACTAAACATTTCGCTCAAGATCGGTCCGCTTTCACGTATTTGGATGCTATGCAATGTTGACTATTCTTAGTGGATAACATGCGGCATTTCCTGGCGGCTATTTGCATCGCTATGTAAGTGGCAATGTTCGGATGTGGGTAGTACTTTCAAAAGAAAAAATATTACTGAAGAAGGCATACTACGCCAAGACTATTTTATTCTCAGCACTTGTCCTACGTGGGGTTAGAGGCGAGTAAGACTTTGGCCCCGCTGCGGAAGCAAAGAGAATTTTGCCATCGGACATGCTACCTTACGCTTATATCTCTCATTGGAATATCGTTTTCTGATTAAAACACGGAAGTAAGAACTTAATTCGTTTTTCGTTGAACTATGTTGTGCCAGCGTAACATTAAAAAAGAGTGTACAAGGCCACGTTCTGTCACCGTCAGAAAAATATGTCAATGAGGCAAGAACCGGGATGGTAACAAAAATCACGATCTGGGTGGGTGTGGGTGTATTGGATTATAGGAAGCCACGCGCTCAACCTGGAATTACAGGAAGCTGGTAATTTTTTGGGTTTGCAATCATCACCATCTGCACGTTGTTATAATGTCCCGTGTCTATATATATCCATTGACGGTATTCTATTTTTTTGCTATTGAAATGAGCGTTTTTTGTTACTACAATTGGTTTTACAGACGGAATTTTCCCTATTTGTTTCGTCCCATTTTTCCTTTTCTCATTGTTCTCATATCTTAAAAAGGTCCTTTCTTCATAATCAATGCTTTCTTTTACTTAATATTTTACTTGCATTCAGTGAATTTTAATACATATTCCTCTAGTCTTGCAAAATCGATTTAGAATCAAGATACCAGCCTAAAA'"
       ]
      }
     ],
     "prompt_number": 4
    },
    {
     "cell_type": "code",
     "collapsed": false,
     "input": [
      "template = Dseqrecord(sg.intergenic_sequence(\"YBR197C\", \"PGI1\"))\n",
      "\n",
      "tp = pcr( primers, template)"
     ],
     "language": "python",
     "metadata": {},
     "outputs": [],
     "prompt_number": 5
    },
    {
     "cell_type": "code",
     "collapsed": false,
     "input": [
      "pYPKa_enz_tp = (pYPKa_cut + tp).looped()\n",
      "\n",
      "pYPKa_enz_tp = pYPKa_enz_tp.synced(pYPKa)\n",
      "\n",
      "pYPKa_E_PGI1tp = pYPKa_enz_tp"
     ],
     "language": "python",
     "metadata": {},
     "outputs": [],
     "prompt_number": 6
    },
    {
     "cell_type": "code",
     "collapsed": false,
     "input": [
      "pYPKa_E_PGI1tp.write(\"pYPKa_E_PGI1tp.gb\")"
     ],
     "language": "python",
     "metadata": {},
     "outputs": [],
     "prompt_number": 7
    },
    {
     "cell_type": "markdown",
     "metadata": {},
     "source": [
      "## Download\n",
      "\n",
      "[pYPKa_E_PGI1tp](pYPKa_E_PGI1tp.gb)"
     ]
    },
    {
     "cell_type": "code",
     "collapsed": false,
     "input": [],
     "language": "python",
     "metadata": {},
     "outputs": [],
     "prompt_number": 7
    },
    {
     "cell_type": "code",
     "collapsed": false,
     "input": [],
     "language": "python",
     "metadata": {},
     "outputs": []
    }
   ],
   "metadata": {}
  }
 ]
}