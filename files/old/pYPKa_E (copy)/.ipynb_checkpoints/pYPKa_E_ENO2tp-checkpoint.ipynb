{
 "metadata": {
  "signature": "sha256:36fddf10e2f770d58f00cde807d4878139820430055cfec3eaee2e093933b8e6"
 },
 "nbformat": 3,
 "nbformat_minor": 0,
 "worksheets": [
  {
   "cells": [
    {
     "cell_type": "code",
     "collapsed": false,
     "input": [
      "from pydna import ipynb_importer\n",
      "from pYPKa import pYPKa\n",
      "from pydna import pcr, parse, Dseqrecord\n",
      "from Bio.Restriction import ZraI, AjiI, EcoRV\n",
      "\n",
      "enz = EcoRV\n",
      "\n",
      "tp = \"ENO2\"\n",
      "\n",
      "primers = parse('''>411_ScENO2tpf (23-mer)\n",
      "                   TTAAATACGCGGCGTTATGTCAC\n",
      "                   >452_ScENO2tpr_FspAI (39-mer)\n",
      "                   GCGCATTTATTATTGTATGTTATAGTATTAGTTGCTTGG''', ds=False)\n",
      "\n",
      "pYPKa_cut = pYPKa.cut(enz).pop()\n",
      "\n",
      "from pygenome import sg"
     ],
     "language": "python",
     "metadata": {},
     "outputs": [],
     "prompt_number": 1
    },
    {
     "cell_type": "code",
     "collapsed": false,
     "input": [
      "str(sg.intergenic_sequence(\"YHR172W\", \"YHR174W\").seq)"
     ],
     "language": "python",
     "metadata": {},
     "outputs": [
      {
       "metadata": {},
       "output_type": "pyout",
       "prompt_number": 3,
       "text": [
        "'ACGCGGCGTTATGTCACTAACGACGTGCACCAACTTGCGGAAAGTGGAATCCCGTTCCAAAACTGGCATCCACTAATTGATACATCTACACACCGCACGCCTTTTTTCTGAAGCCCACTTTCGTGGACTTTGCCATATGCAAAATTCATGAAGTGTGATACCAAGTCAGCATACACCTCACTAGGGTAGTTTCTTTGGTTGTATTGATCATTTGGTTCATCGTGGTTCATTAATTTTTTTTCTCCATTGCTTTCTGGCTTTGATCTTACTATCATTTGGATTTTTGTCGAAGGTTGTAGAATTGTATGTGACAAGTGGCACCAAGCATATATAAAAAAAAAAAGCATTATCTTCCTACCAGAGTTGATTGTTAAAAACGTATTTATAGCAAACGCAATTGTAATTAATTCTTATTTTGTATCTTTTCTTCCCTTGTCTCAATCTTTTATTTTTATTTTATTTTTCTTTTCTTAGTTTCTTTCATAACACCAAGCAACTAATACTATAACATACAATAATA'"
       ]
      }
     ],
     "prompt_number": 3
    },
    {
     "cell_type": "code",
     "collapsed": false,
     "input": [
      "tp = pcr( primers, Dseqrecord(sg.intergenic_sequence(\"YHR172W\", \"YHR174W\"))) #\n",
      "\n",
      "pYPKa_enz_tp = (pYPKa_cut + tp).looped()\n",
      "\n",
      "pYPKa_enz_tp = pYPKa_enz_tp.synced(pYPKa)"
     ],
     "language": "python",
     "metadata": {},
     "outputs": [],
     "prompt_number": 4
    },
    {
     "cell_type": "code",
     "collapsed": false,
     "input": [
      "pYPKa_E_ENO2tp = pYPKa_enz_tp"
     ],
     "language": "python",
     "metadata": {},
     "outputs": [],
     "prompt_number": 5
    },
    {
     "cell_type": "code",
     "collapsed": false,
     "input": [
      "pYPKa_E_ENO2tp.write(\"pYPKa_E_ENO2tp.gb\")"
     ],
     "language": "python",
     "metadata": {},
     "outputs": [],
     "prompt_number": 6
    },
    {
     "cell_type": "markdown",
     "metadata": {},
     "source": [
      "## Download\n",
      "\n",
      "[pYPKa_E_ENO2tp](pYPKa_E_ENO2tp.gb)"
     ]
    },
    {
     "cell_type": "code",
     "collapsed": false,
     "input": [],
     "language": "python",
     "metadata": {},
     "outputs": []
    }
   ],
   "metadata": {}
  }
 ]
}