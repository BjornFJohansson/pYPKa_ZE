{
 "metadata": {
  "signature": "sha256:30799351be8730172c93daa8aa83cf468fe9fcf5f31fa5236620a03413e2f22c"
 },
 "nbformat": 3,
 "nbformat_minor": 0,
 "worksheets": [
  {
   "cells": [
    {
     "cell_type": "code",
     "collapsed": false,
     "input": [
      "from pydna import ipynb_importer\n",
      "from pYPKa import pYPKa\n",
      "from pydna import pcr, parse, Dseqrecord\n",
      "from Bio.Restriction import ZraI, AjiI, EcoRV\n",
      "\n",
      "enz = EcoRV\n",
      "\n",
      "tp = \"TDH3\"\n",
      "\n",
      "primers = parse('''\n",
      ">415_ScTDH3tpf (29-mer)\n",
      "TTAAATAATAAAAAACACGCTTTTTCAGT\n",
      "                \n",
      ">623_ScTDH3tpr_PacI (33-mer)\n",
      "taattaaTTTGTTTGTTTATGTGTGTTTATTCG''', ds=False)\n",
      "\n",
      "pYPKa_cut = pYPKa.cut(enz).pop()\n",
      "\n",
      "from pygenome import sg"
     ],
     "language": "python",
     "metadata": {},
     "outputs": [],
     "prompt_number": 1
    },
    {
     "cell_type": "code",
     "collapsed": false,
     "input": [
      "str(sg.promoter(tp).seq)"
     ],
     "language": "python",
     "metadata": {},
     "outputs": [
      {
       "metadata": {},
       "output_type": "pyout",
       "prompt_number": 2,
       "text": [
        "'ATAAAAAACACGCTTTTTCAGTTCGAGTTTATCATTATCAATACTGCCATTTCAAAGAATACGTAAATAATTAATAGTAGTGATTTTCCTAACTTTATTTAGTCAAAAAATTAGCCTTTTAATTCTGCTGTAACCCGTACATGCCCAAAATAGGGGGCGGGTTACACAGAATATATAACATCGTAGGTGTCTGGGTGAACAGTTTATTCCTGGCATCCACTAAATATAATGGAGCCCGCTTTTTAAGCTGGCATCCAGAAAAAAAAAGAATCCCAGCACCAAAATATTGTTTTCTTCACCAACCATCAGTTCATAGGTCCATTCTCTTAGCGCAACTACAGAGAACAGGGGCACAAACAGGCAAAAAACGGGCACAACCTCAATGGAGTGATGCAACCTGCCTGGAGTAAATGATGACACAAGGCAATTGACCCACGCATGTATCTATCTCATTTTCTTACACCTTCTATTACCTTCTGCTCTCTCTGATTTGGAAAAAGCTGAAAAAAAAGGTTGAAACCAGTTCCCTGAAATTATTCCCCTACTTGACTAATAAGTATATAAAGACGGTAGGTATTGATTGTAATTCTGTAAATCTATTTCTTAAACTTCTTAAATTCTACTTTTATAGTTAGTCTTTTTTTTAGTTTTAAAACACCAAGAACTTAGTTTCGAATAAACACACATAAACAAACAAA'"
       ]
      }
     ],
     "prompt_number": 2
    },
    {
     "cell_type": "code",
     "collapsed": false,
     "input": [
      "tp = pcr( primers, Dseqrecord(sg.promoter(tp)))\n",
      "\n",
      "pYPKa_enz_tp = (pYPKa_cut + tp).looped()\n",
      "\n",
      "pYPKa_enz_tp = pYPKa_enz_tp.synced(pYPKa)\n",
      "\n",
      "pYPKa_E_TDH3tp = pYPKa_enz_tp"
     ],
     "language": "python",
     "metadata": {},
     "outputs": [],
     "prompt_number": 3
    },
    {
     "cell_type": "code",
     "collapsed": false,
     "input": [
      "pYPKa_E_TDH3tp.write(\"pYPKa_E_TDH3tp.gb\")"
     ],
     "language": "python",
     "metadata": {},
     "outputs": [],
     "prompt_number": 4
    },
    {
     "cell_type": "markdown",
     "metadata": {},
     "source": [
      "## Download\n",
      "\n",
      "[pYPKa_E_TDH3tp](pYPKa_E_TDH3tp.gb)"
     ]
    },
    {
     "cell_type": "code",
     "collapsed": false,
     "input": [],
     "language": "python",
     "metadata": {},
     "outputs": []
    }
   ],
   "metadata": {}
  }
 ]
}