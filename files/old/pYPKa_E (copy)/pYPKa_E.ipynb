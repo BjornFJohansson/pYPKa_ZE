{
 "metadata": {
  "name": "",
  "signature": "sha256:6210d17f85262067385c0c5c01bce0eaaf91d1ab71cb545fecbd59000ae3c168"
 },
 "nbformat": 3,
 "nbformat_minor": 0,
 "worksheets": [
  {
   "cells": [
    {
     "cell_type": "markdown",
     "metadata": {},
     "source": [
      "[pYPKa_E_TEF1tp](pYPKa_E_TEF1tp.ipynb)\n",
      "\n",
      "[pYPKa_E_TDH3tp](pYPKa_E_TDH3tp.ipynb)\n",
      "\n",
      "[pYPKa_E_PGI1tp](pYPKa_E_PGI1tp.ipynb)\n",
      "\n",
      "[pYPKa_E_FBA1tp](pYPKa_E_FBA1tp.ipynb)\n",
      "\n",
      "[pYPKa_E_PDC1tp](pYPKa_E_PDC1tp.ipynb)\n",
      "\n",
      "[pYPKa_E_RPS19btp](pYPKa_E_RPS19btp.ipynb)\n",
      "\n",
      "[pYPKa_E_RPS19atp](pYPKa_E_RPS19atp.ipynb)\n",
      "\n",
      "[pYPKa_E_TPI1tp](pYPKa_E_TPI1tp.ipynb)\n",
      "\n",
      "[pYPKa_E_ENO2tp](pYPKa_E_ENO2tp.ipynb)"
     ]
    },
    {
     "cell_type": "code",
     "collapsed": false,
     "input": [],
     "language": "python",
     "metadata": {},
     "outputs": []
    }
   ],
   "metadata": {}
  }
 ]
}