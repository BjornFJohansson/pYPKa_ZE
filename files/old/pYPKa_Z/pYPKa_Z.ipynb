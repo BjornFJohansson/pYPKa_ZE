{
 "metadata": {
  "name": "",
  "signature": "sha256:e9272a4db55927a2c0f214262dabc5fdf87b8fee42ccd06b61dfe0ef4eae2165"
 },
 "nbformat": 3,
 "nbformat_minor": 0,
 "worksheets": [
  {
   "cells": [
    {
     "cell_type": "markdown",
     "metadata": {},
     "source": [
      "[pYPKa_Z_TEF1tp](pYPKa_Z_TEF1tp.ipynb)\n",
      "\n",
      "[pYPKa_Z_TDH3tp](pYPKa_Z_TDH3tp.ipynb)\n",
      "\n",
      "[pYPKa_Z_PGI1tp](pYPKa_Z_PGI1tp.ipynb)\n",
      "\n",
      "[pYPKa_Z_FBA1tp](pYPKa_Z_FBA1tp.ipynb)\n",
      "\n",
      "[pYPKa_Z_PDC1tp](pYPKa_Z_PDC1tp.ipynb)\n",
      "\n",
      "[pYPKa_Z_RPS19btp](pYPKa_Z_RPS19btp.ipynb)\n",
      "\n",
      "[pYPKa_Z_RPS19atp](pYPKa_Z_RPS19atp.ipynb)\n",
      "\n",
      "[pYPKa_Z_TPI1tp](pYPKa_Z_TPI1tp.ipynb)\n",
      "\n",
      "[pYPKa_Z_ENO2tp](pYPKa_Z_ENO2tp.ipynb)"
     ]
    },
    {
     "cell_type": "code",
     "collapsed": false,
     "input": [],
     "language": "python",
     "metadata": {},
     "outputs": []
    }
   ],
   "metadata": {}
  }
 ]
}