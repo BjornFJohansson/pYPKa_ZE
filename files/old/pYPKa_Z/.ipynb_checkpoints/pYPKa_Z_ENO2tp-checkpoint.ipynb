{
 "metadata": {
  "name": "",
  "signature": "sha256:ede452ed7be78d87ea5707020b20120bf915fbf05ccd338a48fd7479024b9c00"
 },
 "nbformat": 3,
 "nbformat_minor": 0,
 "worksheets": [
  {
   "cells": [
    {
     "cell_type": "code",
     "collapsed": false,
     "input": [
      "from pydna import ipynb_importer"
     ],
     "language": "python",
     "metadata": {},
     "outputs": [],
     "prompt_number": 4
    },
    {
     "cell_type": "code",
     "collapsed": false,
     "input": [
      "#!/usr/bin/env python\n",
      "# -*- coding: utf-8 -*- \n",
      "\n",
      "from pYPKa import pYPKa\n",
      "from pydna import pcr, parse, Dseqrecord\n",
      "from Bio.Restriction import ZraI, AjiI, EcoRV\n",
      "\n",
      "enz = ZraI\n",
      "\n",
      "tp = \"ENO2\"\n",
      "\n",
      "primers = parse('''>411_ScENO2tpf (23-mer)\n",
      "                   TTAAATACGCGGCGTTATGTCAC\n",
      "                   >660_ScENO2tpr_PacI\n",
      "                   taattaaTTATTATTGTATGTTATAGTATTAGTTGCTTG''', ds=False)\n",
      "\n",
      "pYPKa_cut = pYPKa.cut(enz).pop()\n",
      "\n",
      "from pygenome import sg"
     ],
     "language": "python",
     "metadata": {},
     "outputs": [],
     "prompt_number": 5
    },
    {
     "cell_type": "code",
     "collapsed": false,
     "input": [
      "str(sg.intergenic_sequence(\"YHR172W\", \"YHR174W\").seq)"
     ],
     "language": "python",
     "metadata": {},
     "outputs": [
      {
       "metadata": {},
       "output_type": "pyout",
       "prompt_number": 6,
       "text": [
        "'ACGCGGCGTTATGTCACTAACGACGTGCACCAACTTGCGGAAAGTGGAATCCCGTTCCAAAACTGGCATCCACTAATTGATACATCTACACACCGCACGCCTTTTTTCTGAAGCCCACTTTCGTGGACTTTGCCATATGCAAAATTCATGAAGTGTGATACCAAGTCAGCATACACCTCACTAGGGTAGTTTCTTTGGTTGTATTGATCATTTGGTTCATCGTGGTTCATTAATTTTTTTTCTCCATTGCTTTCTGGCTTTGATCTTACTATCATTTGGATTTTTGTCGAAGGTTGTAGAATTGTATGTGACAAGTGGCACCAAGCATATATAAAAAAAAAAAGCATTATCTTCCTACCAGAGTTGATTGTTAAAAACGTATTTATAGCAAACGCAATTGTAATTAATTCTTATTTTGTATCTTTTCTTCCCTTGTCTCAATCTTTTATTTTTATTTTATTTTTCTTTTCTTAGTTTCTTTCATAACACCAAGCAACTAATACTATAACATACAATAATA'"
       ]
      }
     ],
     "prompt_number": 6
    },
    {
     "cell_type": "code",
     "collapsed": false,
     "input": [
      "tp = pcr( primers, Dseqrecord(sg.intergenic_sequence(\"YHR172W\", \"YHR174W\"))) #\n",
      "\n",
      "pYPKa_enz_tp = (pYPKa_cut + tp).looped()\n",
      "\n",
      "pYPKa_enz_tp = pYPKa_enz_tp.synced(pYPKa)\n",
      "\n",
      "pYPKa_Z_ENO2tp = pYPKa_enz_tp"
     ],
     "language": "python",
     "metadata": {},
     "outputs": [],
     "prompt_number": 7
    },
    {
     "cell_type": "code",
     "collapsed": false,
     "input": [
      "pYPKa_Z_ENO2tp.write(\"pYPKa_Z_ENO2tp.gb\")"
     ],
     "language": "python",
     "metadata": {},
     "outputs": [],
     "prompt_number": 8
    },
    {
     "cell_type": "markdown",
     "metadata": {},
     "source": [
      "## Download\n",
      "\n",
      "[pYPKa_Z_ENO2tp](pYPKa_Z_ENO2tp.gb)"
     ]
    },
    {
     "cell_type": "code",
     "collapsed": false,
     "input": [],
     "language": "python",
     "metadata": {},
     "outputs": []
    }
   ],
   "metadata": {}
  }
 ]
}