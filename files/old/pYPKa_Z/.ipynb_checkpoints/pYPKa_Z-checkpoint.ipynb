{
 "metadata": {
  "name": "",
  "signature": "sha256:a1a006050035a3a5f6c4ef1dbf110d0ee737d63fd7efaa0e7e6d6862a072746a"
 },
 "nbformat": 3,
 "nbformat_minor": 0,
 "worksheets": [
  {
   "cells": [
    {
     "cell_type": "code",
     "collapsed": false,
     "input": [],
     "language": "python",
     "metadata": {},
     "outputs": []
    }
   ],
   "metadata": {}
  }
 ]
}