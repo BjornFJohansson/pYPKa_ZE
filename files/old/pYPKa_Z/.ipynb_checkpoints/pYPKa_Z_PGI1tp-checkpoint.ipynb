{
 "metadata": {
  "signature": "sha256:c9aa9b77060fe5cfc7a6e128fd08acd480ed057bbd642ec89c39743311efb673"
 },
 "nbformat": 3,
 "nbformat_minor": 0,
 "worksheets": [
  {
   "cells": [
    {
     "cell_type": "code",
     "collapsed": false,
     "input": [
      "from pydna import ipynb_importer\n",
      "from pYPKa import pYPKa\n",
      "from pydna import pcr, parse, Dseqrecord\n",
      "from Bio.Restriction import ZraI, AjiI, EcoRV\n",
      "\n",
      "enz = ZraI\n",
      "\n",
      "tp = \"PGI1\"\n",
      "\n",
      "primers = parse('''\n",
      ">549_ScPGI1tpf (27-mer)\n",
      "ttaaatAATTCAGTTTTCTGACTGAGT\n",
      "                \n",
      ">622_ScPGI1tpr_PacI (28-mer)\n",
      "taattaaTTTTAGGCTGGTATCTTGATT''', ds=False)\n",
      "\n",
      "pYPKa_cut = pYPKa.cut(enz).pop()\n",
      "\n",
      "from pygenome import sg"
     ],
     "language": "python",
     "metadata": {},
     "outputs": [],
     "prompt_number": 2
    },
    {
     "cell_type": "code",
     "collapsed": false,
     "input": [
      "str(sg.intergenic_sequence(\"YBR197C\", \"PGI1\").seq)"
     ],
     "language": "python",
     "metadata": {},
     "outputs": [
      {
       "metadata": {},
       "output_type": "pyout",
       "prompt_number": 5,
       "text": [
        "'TGACATGTATGGGTTGAAAATATTTAGAGGATGCTAAAAGTCCCGTCTAAAATAGAGGAAGTCATGGATTACATTATCACCTTTATTGTCCTGTTCCGTCTGGCTAATTTGGGACGAGGAACGTTTGTCTCCATTCGCAACCTTTTGAAACCATATGAACGGCGGCTAATCTGACAGATGTCTTATATTTCTAGGATTGTAGAAAGCCTCCTCATCAAACCACCTTGTTTGAAAAAGGCACTAGTGCGGTTGCTTTACTTGATCTAGTATTCTCCTACCTTGGAGCGGTCCCATATCAACTAAATTCAGTTTTCTGACTGAGTTAAAAACTAATGTAGCGACACCACTTCCATTGGTGCCTCCGTTATTTTTTTTTTGTATGTTAATGCTAAATAATACACCGCTATGTATTTCAGGGCACTACTTCTACACATCAACGGTACTAAACATTTCGCTCAAGATCGGTCCGCTTTCACGTATTTGGATGCTATGCAATGTTGACTATTCTTAGTGGATAACATGCGGCATTTCCTGGCGGCTATTTGCATCGCTATGTAAGTGGCAATGTTCGGATGTGGGTAGTACTTTCAAAAGAAAAAATATTACTGAAGAAGGCATACTACGCCAAGACTATTTTATTCTCAGCACTTGTCCTACGTGGGGTTAGAGGCGAGTAAGACTTTGGCCCCGCTGCGGAAGCAAAGAGAATTTTGCCATCGGACATGCTACCTTACGCTTATATCTCTCATTGGAATATCGTTTTCTGATTAAAACACGGAAGTAAGAACTTAATTCGTTTTTCGTTGAACTATGTTGTGCCAGCGTAACATTAAAAAAGAGTGTACAAGGCCACGTTCTGTCACCGTCAGAAAAATATGTCAATGAGGCAAGAACCGGGATGGTAACAAAAATCACGATCTGGGTGGGTGTGGGTGTATTGGATTATAGGAAGCCACGCGCTCAACCTGGAATTACAGGAAGCTGGTAATTTTTTGGGTTTGCAATCATCACCATCTGCACGTTGTTATAATGTCCCGTGTCTATATATATCCATTGACGGTATTCTATTTTTTTGCTATTGAAATGAGCGTTTTTTGTTACTACAATTGGTTTTACAGACGGAATTTTCCCTATTTGTTTCGTCCCATTTTTCCTTTTCTCATTGTTCTCATATCTTAAAAAGGTCCTTTCTTCATAATCAATGCTTTCTTTTACTTAATATTTTACTTGCATTCAGTGAATTTTAATACATATTCCTCTAGTCTTGCAAAATCGATTTAGAATCAAGATACCAGCCTAAAA'"
       ]
      }
     ],
     "prompt_number": 5
    },
    {
     "cell_type": "code",
     "collapsed": false,
     "input": [
      "tp = pcr( primers, Dseqrecord(sg.intergenic_sequence(\"YBR197C\", \"PGI1\")))\n",
      "\n",
      "pYPKa_enz_tp = (pYPKa_cut + tp).looped()\n",
      "\n",
      "pYPKa_enz_tp = pYPKa_enz_tp.synced(pYPKa)\n",
      "\n",
      "pYPKa_Z_PGI1tp = pYPKa_enz_tp "
     ],
     "language": "python",
     "metadata": {},
     "outputs": [],
     "prompt_number": 1
    },
    {
     "cell_type": "code",
     "collapsed": false,
     "input": [
      "pYPKa_Z_PGI1tp.write(\"pYPKa_Z_PGI1tp.gb\")"
     ],
     "language": "python",
     "metadata": {},
     "outputs": [],
     "prompt_number": 2
    },
    {
     "cell_type": "markdown",
     "metadata": {},
     "source": [
      "## Download\n",
      "\n",
      "[pYPKa_Z_PGI1tp](pYPKa_Z_PGI1tp.gb)"
     ]
    },
    {
     "cell_type": "code",
     "collapsed": false,
     "input": [],
     "language": "python",
     "metadata": {},
     "outputs": []
    }
   ],
   "metadata": {}
  }
 ]
}