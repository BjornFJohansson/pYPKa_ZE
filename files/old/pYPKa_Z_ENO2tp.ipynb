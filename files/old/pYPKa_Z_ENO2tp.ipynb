{
 "metadata": {
  "name": "",
  "signature": "sha256:3691e05c50f71a71d83c8f633af6218aac39454f58189ea2c3a151189a7b09db"
 },
 "nbformat": 3,
 "nbformat_minor": 0,
 "worksheets": [
  {
   "cells": [
    {
     "cell_type": "code",
     "collapsed": false,
     "input": [
      "from pydna import ipynb_importer"
     ],
     "language": "python",
     "metadata": {},
     "outputs": [],
     "prompt_number": 1
    },
    {
     "cell_type": "code",
     "collapsed": false,
     "input": [
      "#!/usr/bin/env python\n",
      "# -*- coding: utf-8 -*- \n",
      "\n",
      "from pYPKa import pYPKa\n",
      "from pydna import pcr, parse, Dseqrecord\n",
      "from Bio.Restriction import ZraI, AjiI, EcoRV\n",
      "\n",
      "enz = ZraI\n",
      "\n",
      "tp = \"ENO2\"\n",
      "\n",
      "primers = parse('''>411_ScENO2tpf (23-mer)\n",
      "                   TTAAATACGCGGCGTTATGTCAC\n",
      "                   >660_ScENO2tpr_PacI\n",
      "                   taattaaTTATTATTGTATGTTATAGTATTAGTTGCTTG''', ds=False)\n",
      "\n",
      "pYPKa_cut = pYPKa.cut(enz).pop()\n",
      "\n",
      "from pygenome import sg\n",
      "\n",
      "tp = pcr( primers, Dseqrecord(sg.intergenic_sequence(\"YHR172W\", \"YHR174W\"))) #\n",
      "\n",
      "pYPKa_enz_tp = (pYPKa_cut + tp).looped()\n",
      "\n",
      "pYPKa_enz_tp = pYPKa_enz_tp.synced(pYPKa)\n",
      "\n",
      "pYPKa_Z_ENO2tp = pYPKa_enz_tp"
     ],
     "language": "python",
     "metadata": {},
     "outputs": [],
     "prompt_number": 2
    },
    {
     "cell_type": "code",
     "collapsed": false,
     "input": [
      "pYPKa_Z_ENO2tp.write(\"pYPKa_Z_ENO2tp.gb\")"
     ],
     "language": "python",
     "metadata": {},
     "outputs": [],
     "prompt_number": 3
    },
    {
     "cell_type": "markdown",
     "metadata": {},
     "source": [
      "## Download\n",
      "\n",
      "[pYPKa_Z_ENO2tp](pYPKa_Z_ENO2tp.gb)"
     ]
    },
    {
     "cell_type": "code",
     "collapsed": false,
     "input": [],
     "language": "python",
     "metadata": {},
     "outputs": []
    }
   ],
   "metadata": {}
  }
 ]
}